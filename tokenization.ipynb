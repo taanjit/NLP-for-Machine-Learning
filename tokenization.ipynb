{
 "cells": [
  {
   "cell_type": "code",
   "execution_count": 1,
   "metadata": {},
   "outputs": [
    {
     "name": "stdout",
     "output_type": "stream",
     "text": [
      "Collecting nltk\n",
      "  Downloading nltk-3.8.1-py3-none-any.whl (1.5 MB)\n",
      "\u001b[K     |████████████████████████████████| 1.5 MB 1.7 MB/s eta 0:00:01\n",
      "\u001b[?25hCollecting tqdm\n",
      "  Downloading tqdm-4.66.4-py3-none-any.whl (78 kB)\n",
      "\u001b[K     |████████████████████████████████| 78 kB 3.1 MB/s eta 0:00:011\n",
      "\u001b[?25hCollecting regex>=2021.8.3\n",
      "  Downloading regex-2024.7.24-cp39-cp39-macosx_10_9_x86_64.whl (282 kB)\n",
      "\u001b[K     |████████████████████████████████| 282 kB 14.9 MB/s eta 0:00:01\n",
      "\u001b[?25hCollecting click\n",
      "  Using cached click-8.1.7-py3-none-any.whl (97 kB)\n",
      "Collecting joblib\n",
      "  Downloading joblib-1.4.2-py3-none-any.whl (301 kB)\n",
      "\u001b[K     |████████████████████████████████| 301 kB 2.7 MB/s eta 0:00:01\n",
      "\u001b[?25hInstalling collected packages: tqdm, regex, joblib, click, nltk\n",
      "Successfully installed click-8.1.7 joblib-1.4.2 nltk-3.8.1 regex-2024.7.24 tqdm-4.66.4\n",
      "\u001b[33mWARNING: You are using pip version 21.2.4; however, version 24.2 is available.\n",
      "You should consider upgrading via the '/Users/dranjitta/Documents/Enviornment/NLP_env/bin/python3 -m pip install --upgrade pip' command.\u001b[0m\n"
     ]
    }
   ],
   "source": [
    "! pip install nltk"
   ]
  },
  {
   "cell_type": "code",
   "execution_count": 12,
   "metadata": {},
   "outputs": [],
   "source": [
    "data=\"What is Seller Central? Seller Central simply put, helps you to oversee the status of your business on Amazon.in. Think of it as a one-stop destination to help you manage, learn, and strategize for selling and potentially growing as a seller on Amazon.in. Amazon Seller Central essentially makes it possible for you to take care of a variety of tasks through its dashboard.\""
   ]
  },
  {
   "cell_type": "code",
   "execution_count": 13,
   "metadata": {},
   "outputs": [
    {
     "name": "stdout",
     "output_type": "stream",
     "text": [
      "What is Seller Central? Seller Central simply put, helps you to oversee the status of your business on Amazon.in. Think of it as a one-stop destination to help you manage, learn, and strategize for selling and potentially growing as a seller on Amazon.in. Amazon Seller Central essentially makes it possible for you to take care of a variety of tasks through its dashboard.\n"
     ]
    }
   ],
   "source": [
    "print(data)"
   ]
  },
  {
   "cell_type": "code",
   "execution_count": 17,
   "metadata": {},
   "outputs": [
    {
     "name": "stderr",
     "output_type": "stream",
     "text": [
      "[nltk_data] Downloading package punkt to /Users/dranjitta/nltk_data...\n",
      "[nltk_data]   Package punkt is already up-to-date!\n"
     ]
    },
    {
     "data": {
      "text/plain": [
       "True"
      ]
     },
     "execution_count": 17,
     "metadata": {},
     "output_type": "execute_result"
    }
   ],
   "source": [
    "import nltk\n",
    "nltk.download('punkt')"
   ]
  },
  {
   "cell_type": "code",
   "execution_count": 18,
   "metadata": {},
   "outputs": [],
   "source": [
    "##  Tokenization\n",
    "## Sentence-->paragraphs\n",
    "from nltk.tokenize import sent_tokenize"
   ]
  },
  {
   "cell_type": "code",
   "execution_count": 19,
   "metadata": {},
   "outputs": [],
   "source": [
    "documents=sent_tokenize(data)"
   ]
  },
  {
   "cell_type": "code",
   "execution_count": 20,
   "metadata": {},
   "outputs": [
    {
     "name": "stdout",
     "output_type": "stream",
     "text": [
      "What is Seller Central?\n",
      "Seller Central simply put, helps you to oversee the status of your business on Amazon.in.\n",
      "Think of it as a one-stop destination to help you manage, learn, and strategize for selling and potentially growing as a seller on Amazon.in.\n",
      "Amazon Seller Central essentially makes it possible for you to take care of a variety of tasks through its dashboard.\n"
     ]
    }
   ],
   "source": [
    "for sentence in documents:\n",
    "    print(sentence)"
   ]
  },
  {
   "cell_type": "code",
   "execution_count": 21,
   "metadata": {},
   "outputs": [],
   "source": [
    "## Tokenization \n",
    "## Paragraph-->words\n",
    "## sentence--->words\n",
    "from nltk.tokenize import word_tokenize"
   ]
  },
  {
   "cell_type": "code",
   "execution_count": 22,
   "metadata": {},
   "outputs": [
    {
     "name": "stdout",
     "output_type": "stream",
     "text": [
      "What\n",
      "is\n",
      "Seller\n",
      "Central\n",
      "?\n",
      "Seller\n",
      "Central\n",
      "simply\n",
      "put\n",
      ",\n",
      "helps\n",
      "you\n",
      "to\n",
      "oversee\n",
      "the\n",
      "status\n",
      "of\n",
      "your\n",
      "business\n",
      "on\n",
      "Amazon.in\n",
      ".\n",
      "Think\n",
      "of\n",
      "it\n",
      "as\n",
      "a\n",
      "one-stop\n",
      "destination\n",
      "to\n",
      "help\n",
      "you\n",
      "manage\n",
      ",\n",
      "learn\n",
      ",\n",
      "and\n",
      "strategize\n",
      "for\n",
      "selling\n",
      "and\n",
      "potentially\n",
      "growing\n",
      "as\n",
      "a\n",
      "seller\n",
      "on\n",
      "Amazon.in\n",
      ".\n",
      "Amazon\n",
      "Seller\n",
      "Central\n",
      "essentially\n",
      "makes\n",
      "it\n",
      "possible\n",
      "for\n",
      "you\n",
      "to\n",
      "take\n",
      "care\n",
      "of\n",
      "a\n",
      "variety\n",
      "of\n",
      "tasks\n",
      "through\n",
      "its\n",
      "dashboard\n",
      ".\n"
     ]
    }
   ],
   "source": [
    "for word in word_tokenize(data):\n",
    "    print(word)"
   ]
  },
  {
   "cell_type": "code",
   "execution_count": 23,
   "metadata": {},
   "outputs": [
    {
     "name": "stdout",
     "output_type": "stream",
     "text": [
      "['What', 'is', 'Seller', 'Central', '?']\n",
      "['Seller', 'Central', 'simply', 'put', ',', 'helps', 'you', 'to', 'oversee', 'the', 'status', 'of', 'your', 'business', 'on', 'Amazon.in', '.']\n",
      "['Think', 'of', 'it', 'as', 'a', 'one-stop', 'destination', 'to', 'help', 'you', 'manage', ',', 'learn', ',', 'and', 'strategize', 'for', 'selling', 'and', 'potentially', 'growing', 'as', 'a', 'seller', 'on', 'Amazon.in', '.']\n",
      "['Amazon', 'Seller', 'Central', 'essentially', 'makes', 'it', 'possible', 'for', 'you', 'to', 'take', 'care', 'of', 'a', 'variety', 'of', 'tasks', 'through', 'its', 'dashboard', '.']\n"
     ]
    }
   ],
   "source": [
    "for sentence in documents:\n",
    "    print(word_tokenize(sentence))"
   ]
  },
  {
   "cell_type": "code",
   "execution_count": 24,
   "metadata": {},
   "outputs": [],
   "source": [
    "from nltk.tokenize import wordpunct_tokenize"
   ]
  },
  {
   "cell_type": "code",
   "execution_count": 25,
   "metadata": {},
   "outputs": [
    {
     "data": {
      "text/plain": [
       "['What',\n",
       " 'is',\n",
       " 'Seller',\n",
       " 'Central',\n",
       " '?',\n",
       " 'Seller',\n",
       " 'Central',\n",
       " 'simply',\n",
       " 'put',\n",
       " ',',\n",
       " 'helps',\n",
       " 'you',\n",
       " 'to',\n",
       " 'oversee',\n",
       " 'the',\n",
       " 'status',\n",
       " 'of',\n",
       " 'your',\n",
       " 'business',\n",
       " 'on',\n",
       " 'Amazon',\n",
       " '.',\n",
       " 'in',\n",
       " '.',\n",
       " 'Think',\n",
       " 'of',\n",
       " 'it',\n",
       " 'as',\n",
       " 'a',\n",
       " 'one',\n",
       " '-',\n",
       " 'stop',\n",
       " 'destination',\n",
       " 'to',\n",
       " 'help',\n",
       " 'you',\n",
       " 'manage',\n",
       " ',',\n",
       " 'learn',\n",
       " ',',\n",
       " 'and',\n",
       " 'strategize',\n",
       " 'for',\n",
       " 'selling',\n",
       " 'and',\n",
       " 'potentially',\n",
       " 'growing',\n",
       " 'as',\n",
       " 'a',\n",
       " 'seller',\n",
       " 'on',\n",
       " 'Amazon',\n",
       " '.',\n",
       " 'in',\n",
       " '.',\n",
       " 'Amazon',\n",
       " 'Seller',\n",
       " 'Central',\n",
       " 'essentially',\n",
       " 'makes',\n",
       " 'it',\n",
       " 'possible',\n",
       " 'for',\n",
       " 'you',\n",
       " 'to',\n",
       " 'take',\n",
       " 'care',\n",
       " 'of',\n",
       " 'a',\n",
       " 'variety',\n",
       " 'of',\n",
       " 'tasks',\n",
       " 'through',\n",
       " 'its',\n",
       " 'dashboard',\n",
       " '.']"
      ]
     },
     "execution_count": 25,
     "metadata": {},
     "output_type": "execute_result"
    }
   ],
   "source": [
    "wordpunct_tokenize(data)"
   ]
  },
  {
   "cell_type": "code",
   "execution_count": 26,
   "metadata": {},
   "outputs": [
    {
     "data": {
      "text/plain": [
       "['What',\n",
       " 'is',\n",
       " 'Seller',\n",
       " 'Central',\n",
       " '?',\n",
       " 'Seller',\n",
       " 'Central',\n",
       " 'simply',\n",
       " 'put',\n",
       " ',',\n",
       " 'helps',\n",
       " 'you',\n",
       " 'to',\n",
       " 'oversee',\n",
       " 'the',\n",
       " 'status',\n",
       " 'of',\n",
       " 'your',\n",
       " 'business',\n",
       " 'on',\n",
       " 'Amazon.in.',\n",
       " 'Think',\n",
       " 'of',\n",
       " 'it',\n",
       " 'as',\n",
       " 'a',\n",
       " 'one-stop',\n",
       " 'destination',\n",
       " 'to',\n",
       " 'help',\n",
       " 'you',\n",
       " 'manage',\n",
       " ',',\n",
       " 'learn',\n",
       " ',',\n",
       " 'and',\n",
       " 'strategize',\n",
       " 'for',\n",
       " 'selling',\n",
       " 'and',\n",
       " 'potentially',\n",
       " 'growing',\n",
       " 'as',\n",
       " 'a',\n",
       " 'seller',\n",
       " 'on',\n",
       " 'Amazon.in.',\n",
       " 'Amazon',\n",
       " 'Seller',\n",
       " 'Central',\n",
       " 'essentially',\n",
       " 'makes',\n",
       " 'it',\n",
       " 'possible',\n",
       " 'for',\n",
       " 'you',\n",
       " 'to',\n",
       " 'take',\n",
       " 'care',\n",
       " 'of',\n",
       " 'a',\n",
       " 'variety',\n",
       " 'of',\n",
       " 'tasks',\n",
       " 'through',\n",
       " 'its',\n",
       " 'dashboard',\n",
       " '.']"
      ]
     },
     "execution_count": 26,
     "metadata": {},
     "output_type": "execute_result"
    }
   ],
   "source": [
    "# split including the puncuation marks\n",
    "from nltk.tokenize import TreebankWordTokenizer\n",
    "tokenizer=TreebankWordTokenizer()\n",
    "tokenizer.tokenize(data)"
   ]
  },
  {
   "cell_type": "code",
   "execution_count": null,
   "metadata": {},
   "outputs": [],
   "source": []
  }
 ],
 "metadata": {
  "kernelspec": {
   "display_name": "NLP_env",
   "language": "python",
   "name": "python3"
  },
  "language_info": {
   "codemirror_mode": {
    "name": "ipython",
    "version": 3
   },
   "file_extension": ".py",
   "mimetype": "text/x-python",
   "name": "python",
   "nbconvert_exporter": "python",
   "pygments_lexer": "ipython3",
   "version": "3.9.6"
  }
 },
 "nbformat": 4,
 "nbformat_minor": 2
}
